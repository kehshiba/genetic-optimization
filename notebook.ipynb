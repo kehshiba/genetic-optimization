{
 "cells": [
  {
   "cell_type": "markdown",
   "id": "24dae4e2",
   "metadata": {},
   "source": [
    "# Genetic Algorithm to maximize a given problem"
   ]
  },
  {
   "cell_type": "code",
   "execution_count": 1,
   "id": "95cb9014",
   "metadata": {},
   "outputs": [],
   "source": [
    "import random\n",
    "import math"
   ]
  },
  {
   "cell_type": "code",
   "execution_count": 16,
   "id": "36c08a98",
   "metadata": {},
   "outputs": [],
   "source": [
    "#the optimization problem to find the maximum of\n",
    "def fitness_func(x):\n",
    "    return math.sin(10 * x) * x + math.cos(2 * x) * x"
   ]
  },
  {
   "cell_type": "code",
   "execution_count": 4,
   "id": "6485ef3c",
   "metadata": {},
   "outputs": [
    {
     "name": "stdout",
     "output_type": "stream",
     "text": [
      "[0, 0, 1, 0, 0, 0]\n",
      "[0, 0, 0, 0, 0, 0]\n",
      "[0, 1, 1, 0, 0, 0]\n",
      "[0, 0, 0, 1, 0, 0]\n",
      "[1, 0, 0, 1, 1, 1]\n",
      "[1, 0, 0, 1, 0, 1]\n",
      "[1, 0, 0, 1, 0, 0]\n",
      "[0, 1, 1, 0, 0, 0]\n",
      "[0, 0, 1, 1, 0, 0]\n",
      "[0, 1, 0, 0, 0, 0]\n",
      "[0, 1, 0, 1, 1, 0]\n",
      "[1, 1, 0, 1, 1, 0]\n",
      "[1, 0, 0, 1, 0, 1]\n",
      "[0, 1, 0, 1, 1, 1]\n",
      "[0, 1, 1, 1, 0, 0]\n",
      "[1, 0, 1, 1, 0, 0]\n",
      "[1, 0, 1, 1, 0, 0]\n",
      "[1, 0, 1, 1, 0, 0]\n",
      "[0, 1, 1, 1, 1, 0]\n",
      "[1, 0, 1, 0, 0, 0]\n",
      "[1, 1, 0, 1, 0, 0]\n",
      "[1, 1, 1, 0, 1, 0]\n",
      "[1, 0, 0, 1, 1, 1]\n",
      "[1, 0, 0, 0, 1, 0]\n",
      "[0, 0, 1, 0, 1, 1]\n",
      "[0, 0, 1, 0, 1, 1]\n",
      "[1, 1, 0, 1, 1, 0]\n",
      "[0, 0, 0, 1, 1, 1]\n",
      "[1, 0, 1, 0, 0, 1]\n",
      "[0, 0, 1, 1, 1, 1]\n",
      "[1, 0, 1, 1, 0, 0]\n",
      "[1, 0, 1, 1, 1, 0]\n",
      "[1, 0, 1, 1, 1, 0]\n",
      "[1, 1, 1, 1, 0, 0]\n",
      "[0, 1, 0, 1, 0, 0]\n",
      "[1, 1, 0, 0, 1, 0]\n",
      "[0, 0, 0, 1, 1, 0]\n",
      "[1, 0, 1, 0, 1, 0]\n",
      "[0, 1, 1, 1, 1, 0]\n",
      "[1, 1, 0, 1, 0, 0]\n",
      "[0, 1, 1, 0, 0, 1]\n",
      "[1, 1, 0, 1, 0, 1]\n",
      "[0, 0, 1, 1, 1, 0]\n",
      "[0, 0, 1, 1, 0, 1]\n",
      "[1, 0, 1, 1, 1, 1]\n",
      "[1, 0, 0, 1, 0, 0]\n",
      "[0, 1, 1, 1, 1, 0]\n",
      "[1, 0, 1, 1, 0, 0]\n",
      "[0, 0, 1, 1, 1, 0]\n",
      "[0, 0, 0, 1, 0, 0]\n"
     ]
    }
   ],
   "source": [
    "POPULATION_SIZE = 50\n",
    "GENE_LENGTH = 6\n",
    "CROSSOVER_RATE = 0.8 \n",
    "MUTATION_RATE = 0.05 \n",
    "GENERATIONS = 50\n",
    "\n",
    "#creating individuals in a population \n",
    "\n",
    "population = []\n",
    "for i in range(POPULATION_SIZE):\n",
    "    individual = []\n",
    "    for j in range(GENE_LENGTH):\n",
    "        individual.append(random.randint(0, 1))\n",
    "    population.append(individual)\n",
    "    print(individual)"
   ]
  },
  {
   "cell_type": "code",
   "execution_count": 7,
   "id": "6cef492c",
   "metadata": {},
   "outputs": [
    {
     "name": "stdout",
     "output_type": "stream",
     "text": [
      "[0.24418753633599966, 0.0, 0.03967977556948904, 0.10063885471594763, 0.14487003094765166, -0.007550069562579559, -0.07069061775147953, 0.03967977556948904, 0.35677349471407027, 0.36570613997388063, 0.14754796880394155, 0.5232764760190003, -0.007550069562579559, 0.09404034635818156, -0.1484631404470369, 0.5713241661248829, 0.5713241661248829, 0.5713241661248829, -0.19953790723526627, 0.2300987702456744, 0.6942859880369575, -0.04648450182474406, 0.14487003094765166, -0.16346295807663624, 0.33599414117965043, 0.33599414117965043, 0.5232764760190003, 0.20795580960215598, 0.3181293229133323, 0.37574596132941274, 0.5713241661248829, 0.7020657657521447, 0.7020657657521447, -0.40634461570724334, 0.24511563346314785, 0.7778508935047453, 0.17111546177089795, 0.4062592025828057, -0.19953790723526627, 0.6942859880369575, -0.013661423424351393, 0.6195322189744502, 0.37734882808487724, 0.37083074546184747, 0.7476441409076121, -0.07069061775147953, -0.19953790723526627, 0.5713241661248829, 0.37734882808487724, 0.10063885471594763]\n"
     ]
    }
   ],
   "source": [
    "#converting binary genomes to decimal value and normalizing between 0 and 1\n",
    "\n",
    "def evaluate(population):\n",
    "    fitness_scores = []\n",
    "    for individual in population:\n",
    "        dec = int(''.join(map(str, individual)), 2) / (2 ** GENE_LENGTH - 1)\n",
    "        fitness_scores.append(fitness_func(dec))\n",
    "    return fitness_scores\n",
    "\n",
    "print(evaluate(population))"
   ]
  },
  {
   "cell_type": "code",
   "execution_count": 11,
   "id": "8db875bc",
   "metadata": {},
   "outputs": [
    {
     "name": "stdout",
     "output_type": "stream",
     "text": [
      "[1, 1, 0, 1, 1, 0] [0, 1, 0, 1, 1, 0] [0, 0, 0, 1, 1, 1] [1, 1, 0, 1, 0, 0] [1, 0, 1, 1, 0, 0] [1, 1, 0, 1, 0, 0] [1, 0, 1, 0, 0, 1] [1, 0, 1, 1, 0, 0] [1, 0, 1, 1, 1, 1] [1, 0, 1, 1, 1, 1] [1, 1, 0, 1, 1, 0] [1, 1, 0, 1, 1, 0] [0, 0, 1, 1, 1, 1] [1, 1, 0, 1, 0, 1] [1, 0, 1, 1, 1, 1] [1, 1, 0, 1, 1, 0] [1, 1, 0, 1, 0, 0] [1, 1, 0, 1, 0, 0] [1, 0, 1, 1, 0, 0] [1, 0, 1, 1, 0, 0] [1, 1, 0, 0, 1, 0] [0, 1, 0, 1, 1, 1] [0, 1, 0, 1, 1, 1] [1, 0, 1, 1, 0, 0] [0, 0, 1, 1, 0, 0] [1, 0, 1, 1, 1, 0] [1, 0, 1, 1, 1, 0] [1, 1, 0, 1, 0, 1] [0, 0, 1, 1, 1, 1] [0, 0, 0, 1, 1, 1] [1, 1, 0, 1, 1, 0] [1, 0, 1, 1, 1, 1] [1, 0, 1, 1, 1, 0] [1, 1, 0, 1, 0, 0] [1, 1, 0, 1, 0, 0] [1, 0, 1, 1, 1, 1] [0, 1, 0, 1, 1, 0] [1, 0, 1, 1, 1, 0] [1, 0, 1, 1, 0, 0] [1, 1, 0, 1, 0, 1] [0, 0, 1, 0, 1, 1] [1, 1, 0, 0, 1, 0] [0, 0, 1, 1, 1, 0] [1, 0, 1, 1, 1, 0] [0, 1, 0, 1, 1, 0] [1, 0, 1, 1, 1, 1] [1, 0, 1, 1, 0, 0] [1, 0, 1, 0, 1, 0] [1, 0, 1, 0, 0, 1] [0, 0, 1, 0, 1, 1]\n"
     ]
    }
   ],
   "source": [
    "#randomly selecting the best fit individuals for crossover\n",
    "def selection(population, fitness_scores):\n",
    "    selected = []\n",
    "    total_fitness = sum(fitness_scores)\n",
    "    for i in range(len(population)):\n",
    "        r = random.uniform(0, total_fitness)\n",
    "        current_sum = 0\n",
    "        for j in range(len(population)):\n",
    "            current_sum += fitness_scores[j]\n",
    "            if current_sum > r:\n",
    "                selected.append(population[j])\n",
    "                break\n",
    "    return selected\n",
    "\n",
    "print(*selection(population,evaluate(population)))"
   ]
  },
  {
   "cell_type": "code",
   "execution_count": 12,
   "id": "f088ad5e",
   "metadata": {},
   "outputs": [],
   "source": [
    "#crossing over two individuals \n",
    "def crossover(dad, mom):\n",
    "    if random.random() > CROSSOVER_RATE:\n",
    "        return dad, mom\n",
    "    crossover_point = random.randint(1, GENE_LENGTH - 1)\n",
    "    baby1 = dad[:crossover_point] + mom[crossover_point:]\n",
    "    baby2 = mom[:crossover_point] + dad[crossover_point:]\n",
    "\n",
    "    return baby1, baby2\n"
   ]
  },
  {
   "cell_type": "code",
   "execution_count": 13,
   "id": "12fce401",
   "metadata": {},
   "outputs": [],
   "source": [
    "#mutating the offsprings (swapping the values 0 and 1 randomly based on mutation rate)\n",
    "def mutation(individual):\n",
    "    for i in range(len(individual)):\n",
    "        if random.random() < MUTATION_RATE:\n",
    "            individual[i] = 1 - individual[i]\n",
    "        return individual\n",
    "\n"
   ]
  },
  {
   "cell_type": "code",
   "execution_count": 14,
   "id": "e4ace2d6",
   "metadata": {},
   "outputs": [
    {
     "name": "stdout",
     "output_type": "stream",
     "text": [
      "1 1 0 0 0 0\n",
      "1 1 0 0 0 0\n",
      "1 1 0 0 0 0\n",
      "0 1 0 0 0 0\n",
      "0 1 0 0 0 0\n",
      "1 1 0 0 0 0\n",
      "0 1 0 0 0 0\n",
      "1 1 0 0 0 0\n",
      "1 1 0 0 0 0\n",
      "1 1 0 0 0 0\n",
      "1 1 0 0 0 0\n",
      "1 1 0 0 0 0\n",
      "1 1 0 0 0 0\n",
      "1 1 0 0 0 0\n",
      "1 1 0 0 0 0\n",
      "1 1 0 0 0 0\n",
      "1 1 0 0 0 0\n",
      "1 1 0 0 0 0\n",
      "1 1 0 0 0 0\n",
      "1 1 0 0 0 0\n",
      "1 1 0 0 0 0\n",
      "1 1 0 0 0 0\n",
      "1 1 0 0 0 0\n",
      "1 1 0 0 0 0\n",
      "0 1 0 0 0 0\n",
      "1 1 0 0 0 0\n",
      "0 1 0 0 0 0\n",
      "1 1 0 0 0 0\n",
      "1 1 0 0 0 0\n",
      "1 1 0 0 0 0\n",
      "1 1 0 0 0 0\n",
      "1 1 0 0 0 0\n",
      "1 1 0 0 0 0\n",
      "0 1 0 0 0 0\n",
      "1 1 0 0 0 0\n",
      "1 1 0 0 0 0\n",
      "1 1 0 0 0 0\n",
      "1 1 0 0 0 0\n",
      "0 1 0 0 0 0\n",
      "1 1 0 0 0 0\n",
      "1 1 0 0 0 0\n",
      "1 1 0 0 0 0\n",
      "0 1 0 0 0 0\n",
      "1 1 0 0 0 0\n",
      "1 1 0 0 0 0\n",
      "1 1 0 0 0 0\n",
      "0 1 0 0 0 0\n",
      "1 1 0 0 0 0\n",
      "1 1 0 0 0 0\n",
      "1 1 0 0 0 0\n"
     ]
    }
   ],
   "source": [
    "#generating offsprings\n",
    "\n",
    "for i in range(GENERATIONS):\n",
    "    fitness_scores = evaluate(population)\n",
    "    selected = selection(population, fitness_scores)\n",
    "    offspring = []\n",
    "    for j in range(0, POPULATION_SIZE - 1, 2):\n",
    "        dad = random.choice(selected)\n",
    "        mom = random.choice(selected)\n",
    "        baby1, baby2 = crossover(dad, mom)\n",
    "        baby1 = mutation(baby1)\n",
    "        baby2 = mutation(baby2)\n",
    "        offspring.append(baby1)\n",
    "        offspring.append(baby2)\n",
    "    population = offspring\n",
    "\n",
    "for child in offspring:\n",
    "    print(*child)\n"
   ]
  },
  {
   "cell_type": "code",
   "execution_count": null,
   "id": "6ad6fb7f",
   "metadata": {},
   "outputs": [],
   "source": []
  }
 ],
 "metadata": {
  "kernelspec": {
   "display_name": "Python 3 (ipykernel)",
   "language": "python",
   "name": "python3"
  },
  "language_info": {
   "codemirror_mode": {
    "name": "ipython",
    "version": 3
   },
   "file_extension": ".py",
   "mimetype": "text/x-python",
   "name": "python",
   "nbconvert_exporter": "python",
   "pygments_lexer": "ipython3",
   "version": "3.10.9"
  }
 },
 "nbformat": 4,
 "nbformat_minor": 5
}
